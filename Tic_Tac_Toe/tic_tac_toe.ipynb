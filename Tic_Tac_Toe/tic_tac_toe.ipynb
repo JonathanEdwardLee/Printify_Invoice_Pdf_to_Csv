{
 "cells": [
  {
   "cell_type": "code",
   "execution_count": null,
   "id": "3f6243b0",
   "metadata": {},
   "outputs": [],
   "source": [
    "from IPython.display import clear_output\n",
    "\n",
    "def display_board (board):\n",
    "    clear_output()\n",
    "    print(board[7]+'|'+board[8]+'|'+board[9])\n",
    "    print('-----')\n",
    "    print(board[4]+'|'+board[5]+'|'+board[6])\n",
    "    print('-----')\n",
    "    print(board[1]+'|'+board[2]+'|'+board[3])"
   ]
  },
  {
   "cell_type": "code",
   "execution_count": null,
   "id": "376d5901",
   "metadata": {},
   "outputs": [],
   "source": [
    "#test\n",
    "test_board = ['#','O','X','O','X','O','X','X','X','X']\n",
    "display_board(test_board)"
   ]
  },
  {
   "cell_type": "code",
   "execution_count": null,
   "id": "f96c7871",
   "metadata": {},
   "outputs": [],
   "source": [
    "def player_input():\n",
    "    #output = (player1_marker,player2_marker)\n",
    "    marker = ''\n",
    "    \n",
    "    while marker != 'X' and marker != 'O':\n",
    "        marker = input('Player1: Choose X or O: ').upper()\n",
    "    if marker == 'X':\n",
    "        return ('X','O')\n",
    "    else:\n",
    "        return ('O','X')    "
   ]
  },
  {
   "cell_type": "code",
   "execution_count": 23,
   "id": "03e0c406",
   "metadata": {},
   "outputs": [
    {
     "name": "stdout",
     "output_type": "stream",
     "text": [
      "Player1: Choose X or O: n\n",
      "Player1: Choose X or O: d\n",
      "Player1: Choose X or O: x\n"
     ]
    }
   ],
   "source": [
    "#test\n",
    "player1_marker, player2_marker = player_input()"
   ]
  },
  {
   "cell_type": "code",
   "execution_count": 26,
   "id": "fff838ee",
   "metadata": {},
   "outputs": [],
   "source": [
    "def place_marker(board,marker,position):\n",
    "    \n",
    "    board[position] = marker"
   ]
  },
  {
   "cell_type": "code",
   "execution_count": 28,
   "id": "7f87a612",
   "metadata": {},
   "outputs": [
    {
     "name": "stdout",
     "output_type": "stream",
     "text": [
      "X|X|X\n",
      "-----\n",
      "X|O|&\n",
      "-----\n",
      "O|X|O\n"
     ]
    }
   ],
   "source": [
    "#test\n",
    "place_marker(test_board,'&',6)\n",
    "display_board(test_board)"
   ]
  },
  {
   "cell_type": "code",
   "execution_count": 29,
   "id": "3626232c",
   "metadata": {},
   "outputs": [],
   "source": [
    "def win_check(board,marker):\n",
    "    return (\n",
    "    #check rows\n",
    "    (board[1]==board[2]==board[3]==marker) or\n",
    "    (board[4]==board[5]==board[6]==marker) or\n",
    "    (board[7]==board[8]==board[9]==marker) or\n",
    "    #check column\n",
    "    (board[1]==board[4]==board[7]==marker) or\n",
    "    (board[2]==board[5]==board[8]==marker) or\n",
    "    (board[3]==board[6]==board[9]==marker) or\n",
    "    #check diagonal\n",
    "    (board[1]==board[5]==board[9]==marker) or\n",
    "    (board[7]==board[5]==board[3]==marker))"
   ]
  },
  {
   "cell_type": "code",
   "execution_count": 31,
   "id": "4b4023f1",
   "metadata": {},
   "outputs": [
    {
     "data": {
      "text/plain": [
       "True"
      ]
     },
     "execution_count": 31,
     "metadata": {},
     "output_type": "execute_result"
    }
   ],
   "source": [
    "#test\n",
    "win_check(test_board,'X')"
   ]
  },
  {
   "cell_type": "code",
   "execution_count": 32,
   "id": "621cad46",
   "metadata": {},
   "outputs": [],
   "source": [
    "import random #randomly choose who goes first\n",
    "\n",
    "def choose_first():\n",
    "    \n",
    "    flip = random.randint(0,1)\n",
    "    \n",
    "    if flip==0:\n",
    "        return 'Player 1'\n",
    "    else:\n",
    "        return 'Player 2'"
   ]
  },
  {
   "cell_type": "code",
   "execution_count": 36,
   "id": "7a17f6b8",
   "metadata": {},
   "outputs": [],
   "source": [
    "def space_check(board,position): #check if position is available to play\n",
    "    \n",
    "    return board[position]==' '"
   ]
  },
  {
   "cell_type": "code",
   "execution_count": 37,
   "id": "e08a6ad7",
   "metadata": {},
   "outputs": [],
   "source": [
    "def full_board_check(board):\n",
    "    \n",
    "    for i in range(1,10):\n",
    "        if space_check(board,i):\n",
    "            return False\n",
    "    return True"
   ]
  },
  {
   "cell_type": "code",
   "execution_count": 38,
   "id": "cfcae675",
   "metadata": {},
   "outputs": [],
   "source": [
    "def player_choice(board):\n",
    "    \n",
    "    position = 0\n",
    "    \n",
    "    while position not in [1,2,3,4,5,6,7,8,9] or not space_check(board,position):\n",
    "        position = int(input('Choose a position: (1-9) '))\n",
    "        return position"
   ]
  },
  {
   "cell_type": "code",
   "execution_count": 39,
   "id": "7dd469e9",
   "metadata": {},
   "outputs": [],
   "source": [
    "#replay?\n",
    "def replay():\n",
    "    \n",
    "    choice = input('Want to play again? Enter Yes or No ')\n",
    "    return choice == 'Yes'"
   ]
  },
  {
   "cell_type": "code",
   "execution_count": 40,
   "id": "c47fd917",
   "metadata": {},
   "outputs": [
    {
     "name": "stdout",
     "output_type": "stream",
     "text": [
      "O|X|O\n",
      "-----\n",
      "O|O|X\n",
      "-----\n",
      "X|X|O\n",
      "Player 1 has won!!!!!\n",
      "Want to play again? Enter Yes or No n\n"
     ]
    }
   ],
   "source": [
    "print (\"Let's play Tic Tac Toe!\")\n",
    "#while loop to keep running the game\n",
    "while True:\n",
    "#set up board,who's first, choose markers\n",
    "    the_board = [\" \"]*10\n",
    "    player1_marker, player2_marker = player_input()\n",
    "    turn = choose_first()\n",
    "    print (turn + \" will go first\")\n",
    "    \n",
    "    play_game = input ('Ready to play? y or n ')\n",
    "    if play_game == 'y':\n",
    "        game_on = True\n",
    "    else:\n",
    "        game_on = False\n",
    "##game play\n",
    "    while game_on:\n",
    "        \n",
    "        if turn == 'Player 1':\n",
    "            #show board\n",
    "            display_board(the_board)\n",
    "            #choose position\n",
    "            position = player_choice(the_board)\n",
    "            #place marker\n",
    "            place_marker(the_board,player1_marker,position)\n",
    "            #check for win\n",
    "            if win_check(the_board,player1_marker):\n",
    "                display_board(the_board)\n",
    "                print (\"Player 1 has won!!!!!\")\n",
    "                game_on = False\n",
    "            #check for tie\n",
    "            else:\n",
    "                if full_board_check(the_board):\n",
    "                    display_board(the_board)\n",
    "                    print ('You both lose!!!')\n",
    "                    game_on = False\n",
    "                else:\n",
    "                    turn = 'Player 2'\n",
    "        #Player 2 turn\n",
    "        else:\n",
    "            #show board\n",
    "            display_board(the_board)\n",
    "            #choose position\n",
    "            position = player_choice(the_board)\n",
    "            #place marker\n",
    "            place_marker(the_board,player2_marker,position)\n",
    "            #check for win\n",
    "            if win_check(the_board,player2_marker):\n",
    "                display_board(the_board)\n",
    "                print (\"Player 2 has won!!!!!\")\n",
    "                game_on = False\n",
    "            #check for tie\n",
    "            else:\n",
    "                if full_board_check(the_board):\n",
    "                    display_board(the_board)\n",
    "                    print ('You both lose!!!')\n",
    "                    game_on = False\n",
    "                else:\n",
    "                    turn = 'Player 1'\n",
    "                   \n",
    "              \n",
    "    if not replay():\n",
    "        break\n",
    "#break out the loop with replay()"
   ]
  },
  {
   "cell_type": "code",
   "execution_count": null,
   "id": "ba7897a4",
   "metadata": {},
   "outputs": [],
   "source": []
  }
 ],
 "metadata": {
  "kernelspec": {
   "display_name": "Python 3 (ipykernel)",
   "language": "python",
   "name": "python3"
  },
  "language_info": {
   "codemirror_mode": {
    "name": "ipython",
    "version": 3
   },
   "file_extension": ".py",
   "mimetype": "text/x-python",
   "name": "python",
   "nbconvert_exporter": "python",
   "pygments_lexer": "ipython3",
   "version": "3.9.13"
  }
 },
 "nbformat": 4,
 "nbformat_minor": 5
}
